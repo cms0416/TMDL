{
 "cells": [
  {
   "cell_type": "code",
   "execution_count": 26,
   "metadata": {},
   "outputs": [],
   "source": [
    "import pandas as pd\n",
    "import glob\n",
    "import openpyxl"
   ]
  },
  {
   "cell_type": "code",
   "execution_count": 30,
   "metadata": {},
   "outputs": [
    {
     "name": "stdout",
     "output_type": "stream",
     "text": [
      "E:\\R\\총량\\Data\\누적관리대장\\누적관리대장_강릉시.xls\n",
      "E:\\R\\총량\\Data\\누적관리대장\\누적관리대장_삼척시.xls\n",
      "E:\\R\\총량\\Data\\누적관리대장\\누적관리대장_양구군.xls\n",
      "E:\\R\\총량\\Data\\누적관리대장\\누적관리대장_영월군.xls\n",
      "E:\\R\\총량\\Data\\누적관리대장\\누적관리대장_원주시.xls\n",
      "E:\\R\\총량\\Data\\누적관리대장\\누적관리대장_인제군.xls\n",
      "E:\\R\\총량\\Data\\누적관리대장\\누적관리대장_정선군.xls\n",
      "E:\\R\\총량\\Data\\누적관리대장\\누적관리대장_철원군.xls\n",
      "E:\\R\\총량\\Data\\누적관리대장\\누적관리대장_춘천시.xls\n",
      "E:\\R\\총량\\Data\\누적관리대장\\누적관리대장_태백시.xls\n",
      "E:\\R\\총량\\Data\\누적관리대장\\누적관리대장_평창군.xls\n",
      "E:\\R\\총량\\Data\\누적관리대장\\누적관리대장_홍천군.xls\n",
      "E:\\R\\총량\\Data\\누적관리대장\\누적관리대장_화천군.xls\n",
      "E:\\R\\총량\\Data\\누적관리대장\\누적관리대장_횡성군.xls\n"
     ]
    }
   ],
   "source": [
    "list_filepath = glob.glob('E:\\R\\총량\\Data\\누적관리대장\\*.xls')\n",
    "\n",
    "for filepath in list_filepath:\n",
    "    print(filepath)"
   ]
  },
  {
   "cell_type": "code",
   "execution_count": 42,
   "metadata": {},
   "outputs": [
    {
     "name": "stdout",
     "output_type": "stream",
     "text": [
      "['지역개발부하량_북한B', '지역개발부하량_북한C', '지역개발부하량_북한D', '지역개발부하량_소양B', '지역개발부하량_홍천A']\n",
      "['지역개발부하량(협의)_북한B', '지역개발부하량(협의)_북한C', '지역개발부하량(협의)_북한D', '지역개발부하량(협의)_소양B', '지역개발부하량(협의)_홍천A']\n"
     ]
    }
   ],
   "source": [
    "sheets = pd.ExcelFile('E:\\R\\총량\\Data\\누적관리대장\\누적관리대장_춘천시.xls').sheet_names\n",
    "remove = [s for s in sheets if \"(협의)\" in s]\n",
    "sheets = [i for i in sheets if i not in remove]\n",
    "\n",
    "print(sheets)\n",
    "print(remove)"
   ]
  },
  {
   "cell_type": "code",
   "execution_count": null,
   "metadata": {},
   "outputs": [],
   "source": [
    "list_sheetnames = []\n",
    "for filepath in list_filepath:\n",
    "    sheets = pd.ExcelFile(filepath).sheet_names\n",
    "    \n",
    "    for sheet in sheets:\n",
    "        data = pd.read_excel(filepath, sheet, skiprows=3)\n",
    "    \n",
    "    workbook=openpyxl.load_workbook(filepath)\n",
    "    sheet=workbook.get_sheet_names()\n",
    "    list_sheetnames.append(sheet)\n",
    "\n",
    "print(list_sheetnames)"
   ]
  },
  {
   "cell_type": "code",
   "execution_count": 32,
   "metadata": {},
   "outputs": [
    {
     "data": {
      "text/plain": [
       "['지역개발부하량_북한B',\n",
       " '지역개발부하량(협의)_북한B',\n",
       " '지역개발부하량_북한C',\n",
       " '지역개발부하량(협의)_북한C',\n",
       " '지역개발부하량_북한D',\n",
       " '지역개발부하량(협의)_북한D',\n",
       " '지역개발부하량_소양B',\n",
       " '지역개발부하량(협의)_소양B',\n",
       " '지역개발부하량_홍천A',\n",
       " '지역개발부하량(협의)_홍천A']"
      ]
     },
     "execution_count": 32,
     "metadata": {},
     "output_type": "execute_result"
    }
   ],
   "source": [
    "pd.ExcelFile('E:\\R\\총량\\Data\\누적관리대장\\누적관리대장_춘천시.xls').sheet_names"
   ]
  },
  {
   "cell_type": "code",
   "execution_count": 39,
   "metadata": {},
   "outputs": [
    {
     "name": "stdout",
     "output_type": "stream",
     "text": [
      "     신규  강원도 강릉시  골지A  2021.02.22 강릉시 왕산면 대기리 755-36번지 일원 태양광 발전사업 부지 조성사업  \\\n",
      "0    신규  강원도 강릉시  골지A  2021.03.15     왕산면 고단리 972 일원 태양광발전시설 및 진입도로 부지조성사업   \n",
      "1    신규  강원도 강릉시  골지A  2021.06.22           왕산면 고단리 937 일원 태양광발전시설 부지조성 사업   \n",
      "2    신규  강원도 강릉시  골지A  2021.08.03            왕산면 대기리 129-7 태양광발전시설 부지조성 사업   \n",
      "3    신규  강원도 강릉시  골지A  2021.11.17                        강릉 골지천유역 비점오염저감사업   \n",
      "4    신규  강원도 강릉시  골지A  2022.01.17         강릉시 왕산면 고단리 625-8 태양광발전(2차) 조성사업   \n",
      "..  ...      ...  ...         ...                                      ...   \n",
      "52  NaN      NaN  NaN         NaN                                      NaN   \n",
      "53  NaN      NaN  NaN         NaN                                      NaN   \n",
      "54  NaN      NaN  NaN         NaN                                      NaN   \n",
      "55  NaN      NaN  NaN         NaN                                      NaN   \n",
      "56  NaN      NaN  NaN         NaN                                      NaN   \n",
      "\n",
      "                                           755-36     13381        0    2021  \\\n",
      "0            972, 973번지강원도 강릉시 왕산면 고단리 972, 973번지  14093.00      0.0  2021.0   \n",
      "1                                  왕산면 고단리 937 일원  12569.00      0.0  2021.0   \n",
      "2                           강원도 강릉시 왕산면 대기리 129-7  18124.00      0.0  2021.0   \n",
      "3                         강원도 강릉시 왕산면 송현리, 고단리 일원  46643.39      0.0  2022.0   \n",
      "4   강원도 강릉시 왕산면 고단리 625-8, 625-39, 625-41, 625-45  44001.00      0.0  2022.0   \n",
      "..                                            ...       ...      ...     ...   \n",
      "52                                            NaN       NaN  13779.0     NaN   \n",
      "53                                            NaN       NaN  13841.0     NaN   \n",
      "54                                            NaN       NaN  39698.0     NaN   \n",
      "55                                            NaN       NaN  15306.0     NaN   \n",
      "56                                            NaN       NaN  40542.0     NaN   \n",
      "\n",
      "   2021.1  ...  198.74  248.18.1 49.44.1  198.74.1  19.479  5.029 14.450  \\\n",
      "0    2023  ...     NaN       NaN     NaN       NaN     NaN    NaN    NaN   \n",
      "1    2023  ...     NaN       NaN     NaN       NaN     NaN    NaN    NaN   \n",
      "2    2023  ...     NaN       NaN     NaN       NaN     NaN    NaN    NaN   \n",
      "3    2023  ...     NaN       NaN     NaN       NaN     NaN    NaN    NaN   \n",
      "4    2023  ...     NaN       NaN     NaN       NaN     NaN    NaN    NaN   \n",
      "..    ...  ...     ...       ...     ...       ...     ...    ...    ...   \n",
      "52    NaN  ...  198.74    232.04   42.16    189.88  19.479  5.029  14.45   \n",
      "53    NaN  ...  198.74    232.00   42.16    189.84  19.479  5.029  14.45   \n",
      "54    NaN  ...  198.74    234.98   45.41    189.57  19.479  5.029  14.45   \n",
      "55    NaN  ...  198.74    234.94   45.41    189.53  19.479  5.029  14.45   \n",
      "56    NaN  ...  198.74    234.72   45.39    189.33  19.479  5.029  14.45   \n",
      "\n",
      "   19.479.1 5.029.1 14.450.1  \n",
      "0       NaN     NaN      NaN  \n",
      "1       NaN     NaN      NaN  \n",
      "2       NaN     NaN      NaN  \n",
      "3       NaN     NaN      NaN  \n",
      "4       NaN     NaN      NaN  \n",
      "..      ...     ...      ...  \n",
      "52   18.413   4.673   13.740  \n",
      "53   18.410   4.673   13.737  \n",
      "54   18.401   4.664   13.737  \n",
      "55   18.383   4.664   13.719  \n",
      "56   18.333   4.656   13.677  \n",
      "\n",
      "[2461 rows x 1183 columns]\n"
     ]
    }
   ],
   "source": [
    "data = []\n",
    "for filepath in list_filepath:\n",
    "    sheets = pd.ExcelFile(filepath).sheet_names\n",
    "    \n",
    "    for sheet in sheets:\n",
    "        data.append(pd.read_excel(filepath, sheet, skiprows=3))\n",
    "    data_merged = pd.concat(data)\n",
    "\n",
    "print(data_merged)"
   ]
  },
  {
   "cell_type": "code",
   "execution_count": null,
   "metadata": {},
   "outputs": [],
   "source": [
    "appended_data = []\n",
    "for filepath in list_filepath:\n",
    "    data = pd.read_excel(filepath, sheet_name='^지역개발부하량_', skiprows=3)\n",
    "    appended_data.append(data)\n",
    "appended_data = pd.concat(appended_data)\n",
    "\n",
    "print(appended_data)"
   ]
  },
  {
   "cell_type": "code",
   "execution_count": null,
   "metadata": {},
   "outputs": [],
   "source": [
    "base = pd.read_excel('지역개발부하량.xlsx')\n",
    "\n",
    "print(base)"
   ]
  }
 ],
 "metadata": {
  "kernelspec": {
   "display_name": "Python 3.10.6 ('moonsoo1')",
   "language": "python",
   "name": "python3"
  },
  "language_info": {
   "codemirror_mode": {
    "name": "ipython",
    "version": 3
   },
   "file_extension": ".py",
   "mimetype": "text/x-python",
   "name": "python",
   "nbconvert_exporter": "python",
   "pygments_lexer": "ipython3",
   "version": "3.12.4"
  },
  "orig_nbformat": 4,
  "vscode": {
   "interpreter": {
    "hash": "ab39c2ad298adab2fa57497e13627c1685cc419f39f2d11f7269c9f33ed13219"
   }
  }
 },
 "nbformat": 4,
 "nbformat_minor": 2
}
