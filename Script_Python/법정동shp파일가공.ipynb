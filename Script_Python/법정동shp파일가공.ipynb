{
 "cells": [
  {
   "cell_type": "code",
   "execution_count": null,
   "metadata": {},
   "outputs": [],
   "source": [
    "# 패키지 로드\n",
    "import geopandas as gpd\n",
    "import pandas as pd\n",
    "import os"
   ]
  },
  {
   "cell_type": "code",
   "execution_count": null,
   "metadata": {},
   "outputs": [],
   "source": [
    "# GDAL_DATA 환경 변수 경로 설정\n",
    "os.environ['GDAL_DATA'] = r'C:\\Users\\TG\\miniconda3\\envs\\moonsoo1\\Library\\share\\gdal'"
   ]
  },
  {
   "cell_type": "code",
   "execution_count": 26,
   "metadata": {},
   "outputs": [],
   "source": [
    "# 파일 경로 설정\n",
    "emd_path = 'D:/GIS/행정구역/읍면동/emd.shp'  # 읍면동 shp 파일 경로\n",
    "li_path = 'D:/GIS/행정구역/리/li.shp'        # 리 shp 파일 경로\n",
    "\n",
    "# shp 파일 읽기(한글 속성값 때문에 EUC-KR 인코딩 지정)\n",
    "gdf_emd = gpd.read_file(emd_path, encoding='euc-kr')\n",
    "gdf_li = gpd.read_file(li_path, encoding='euc-kr')"
   ]
  },
  {
   "cell_type": "code",
   "execution_count": 27,
   "metadata": {},
   "outputs": [
    {
     "data": {
      "text/html": [
       "<div>\n",
       "<style scoped>\n",
       "    .dataframe tbody tr th:only-of-type {\n",
       "        vertical-align: middle;\n",
       "    }\n",
       "\n",
       "    .dataframe tbody tr th {\n",
       "        vertical-align: top;\n",
       "    }\n",
       "\n",
       "    .dataframe thead th {\n",
       "        text-align: right;\n",
       "    }\n",
       "</style>\n",
       "<table border=\"1\" class=\"dataframe\">\n",
       "  <thead>\n",
       "    <tr style=\"text-align: right;\">\n",
       "      <th></th>\n",
       "      <th>EMD_CD</th>\n",
       "      <th>EMD_ENG_NM</th>\n",
       "      <th>EMD_KOR_NM</th>\n",
       "      <th>geometry</th>\n",
       "    </tr>\n",
       "  </thead>\n",
       "  <tbody>\n",
       "    <tr>\n",
       "      <th>0</th>\n",
       "      <td>11110101</td>\n",
       "      <td>Cheongun-dong</td>\n",
       "      <td>청운동</td>\n",
       "      <td>POLYGON ((953700.022 1954605.065, 953693.871 1...</td>\n",
       "    </tr>\n",
       "    <tr>\n",
       "      <th>1</th>\n",
       "      <td>11110102</td>\n",
       "      <td>Singyo-dong</td>\n",
       "      <td>신교동</td>\n",
       "      <td>POLYGON ((953233.465 1953996.984, 953235.183 1...</td>\n",
       "    </tr>\n",
       "    <tr>\n",
       "      <th>2</th>\n",
       "      <td>11110103</td>\n",
       "      <td>Gungjeong-dong</td>\n",
       "      <td>궁정동</td>\n",
       "      <td>POLYGON ((953560.228 1954257.466, 953561.19 19...</td>\n",
       "    </tr>\n",
       "    <tr>\n",
       "      <th>3</th>\n",
       "      <td>11110104</td>\n",
       "      <td>Hyoja-dong</td>\n",
       "      <td>효자동</td>\n",
       "      <td>POLYGON ((953519.843 1953890.785, 953518.489 1...</td>\n",
       "    </tr>\n",
       "    <tr>\n",
       "      <th>4</th>\n",
       "      <td>11110105</td>\n",
       "      <td>Changseong-dong</td>\n",
       "      <td>창성동</td>\n",
       "      <td>POLYGON ((953516.123 1953734.362, 953516.526 1...</td>\n",
       "    </tr>\n",
       "    <tr>\n",
       "      <th>...</th>\n",
       "      <td>...</td>\n",
       "      <td>...</td>\n",
       "      <td>...</td>\n",
       "      <td>...</td>\n",
       "    </tr>\n",
       "    <tr>\n",
       "      <th>4959</th>\n",
       "      <td>52210126</td>\n",
       "      <td>Myeongdeok-dong</td>\n",
       "      <td>명덕동</td>\n",
       "      <td>POLYGON ((941613.041 1756499.437, 941612.117 1...</td>\n",
       "    </tr>\n",
       "    <tr>\n",
       "      <th>4960</th>\n",
       "      <td>52210127</td>\n",
       "      <td>Jewol-dong</td>\n",
       "      <td>제월동</td>\n",
       "      <td>POLYGON ((944892.699 1754219.699, 944893.429 1...</td>\n",
       "    </tr>\n",
       "    <tr>\n",
       "      <th>4961</th>\n",
       "      <td>52210128</td>\n",
       "      <td>Dojang-dong</td>\n",
       "      <td>도장동</td>\n",
       "      <td>POLYGON ((949481.601 1753490.356, 949488.931 1...</td>\n",
       "    </tr>\n",
       "    <tr>\n",
       "      <th>4962</th>\n",
       "      <td>52210129</td>\n",
       "      <td>Seojeong-dong</td>\n",
       "      <td>서정동</td>\n",
       "      <td>POLYGON ((948699.374 1752674.742, 948742.221 1...</td>\n",
       "    </tr>\n",
       "    <tr>\n",
       "      <th>4963</th>\n",
       "      <td>52210130</td>\n",
       "      <td>Yangjeon-dong</td>\n",
       "      <td>양전동</td>\n",
       "      <td>POLYGON ((945544.259 1751817.665, 945554.645 1...</td>\n",
       "    </tr>\n",
       "  </tbody>\n",
       "</table>\n",
       "<p>3652 rows × 4 columns</p>\n",
       "</div>"
      ],
      "text/plain": [
       "        EMD_CD       EMD_ENG_NM EMD_KOR_NM  \\\n",
       "0     11110101    Cheongun-dong        청운동   \n",
       "1     11110102      Singyo-dong        신교동   \n",
       "2     11110103   Gungjeong-dong        궁정동   \n",
       "3     11110104       Hyoja-dong        효자동   \n",
       "4     11110105  Changseong-dong        창성동   \n",
       "...        ...              ...        ...   \n",
       "4959  52210126  Myeongdeok-dong        명덕동   \n",
       "4960  52210127       Jewol-dong        제월동   \n",
       "4961  52210128      Dojang-dong        도장동   \n",
       "4962  52210129    Seojeong-dong        서정동   \n",
       "4963  52210130    Yangjeon-dong        양전동   \n",
       "\n",
       "                                               geometry  \n",
       "0     POLYGON ((953700.022 1954605.065, 953693.871 1...  \n",
       "1     POLYGON ((953233.465 1953996.984, 953235.183 1...  \n",
       "2     POLYGON ((953560.228 1954257.466, 953561.19 19...  \n",
       "3     POLYGON ((953519.843 1953890.785, 953518.489 1...  \n",
       "4     POLYGON ((953516.123 1953734.362, 953516.526 1...  \n",
       "...                                                 ...  \n",
       "4959  POLYGON ((941613.041 1756499.437, 941612.117 1...  \n",
       "4960  POLYGON ((944892.699 1754219.699, 944893.429 1...  \n",
       "4961  POLYGON ((949481.601 1753490.356, 949488.931 1...  \n",
       "4962  POLYGON ((948699.374 1752674.742, 948742.221 1...  \n",
       "4963  POLYGON ((945544.259 1751817.665, 945554.645 1...  \n",
       "\n",
       "[3652 rows x 4 columns]"
      ]
     },
     "execution_count": 27,
     "metadata": {},
     "output_type": "execute_result"
    }
   ],
   "source": [
    "# 읍면동 shp 파일에서 '읍면동명' 컬럼(EMD_KOR_NM)의 값이 '동' 또는 '가'로 끝나는 행만 필터링\n",
    "filtered_emd = gdf_emd[gdf_emd['EMD_KOR_NM'].str.endswith(('동', '가'))]\n",
    "\n",
    "filtered_emd"
   ]
  },
  {
   "cell_type": "code",
   "execution_count": 30,
   "metadata": {},
   "outputs": [],
   "source": [
    "# 두 GeoDataFrame의 좌표계가 동일한지 확인하고, 다르면 변환 필요\n",
    "if filtered_emd.crs != gdf_li.crs:\n",
    "    gdf_li = gdf_li.to_crs(filtered_emd.crs)"
   ]
  },
  {
   "cell_type": "code",
   "execution_count": null,
   "metadata": {},
   "outputs": [
    {
     "name": "stderr",
     "output_type": "stream",
     "text": [
      "c:\\Users\\TG\\miniconda3\\envs\\moonsoo1\\Lib\\site-packages\\geopandas\\geodataframe.py:1819: SettingWithCopyWarning: \n",
      "A value is trying to be set on a copy of a slice from a DataFrame.\n",
      "Try using .loc[row_indexer,col_indexer] = value instead\n",
      "\n",
      "See the caveats in the documentation: https://pandas.pydata.org/pandas-docs/stable/user_guide/indexing.html#returning-a-view-versus-a-copy\n",
      "  super().__setitem__(key, value)\n"
     ]
    }
   ],
   "source": [
    "# EMD 파일의 코드는 EMD_CD 값 뒤에 '00'을 추가하고, 한국어 이름 컬럼을 'DONGLI'로 통일\n",
    "filtered_emd['CODE'] = filtered_emd['EMD_CD'].astype(str) + \"00\"\n",
    "filtered_emd = filtered_emd.rename(columns={'EMD_KOR_NM': 'DONGLI'})\n",
    "\n",
    "# LI 파일은 LI_CD와 LI_KOR_NM을 각각 'CODE'와 'DONGLI'으로 변경\n",
    "gdf_li = gdf_li.rename(columns={'LI_CD': 'CODE', 'LI_KOR_NM': 'DONGLI'})\n",
    "\n",
    "# 불필요한 영어 이름 컬럼 제거 후, 필요한 컬럼만 선택(코드, 동리명, 지오메트리)\n",
    "filtered_emd = filtered_emd[['CODE', 'DONGLI', 'geometry']]\n",
    "gdf_li = gdf_li[['CODE', 'DONGLI', 'geometry']]"
   ]
  },
  {
   "cell_type": "code",
   "execution_count": 34,
   "metadata": {},
   "outputs": [],
   "source": [
    "# 두 데이터를 병합(속성 및 지오메트리 모두 병합됨)\n",
    "combined_gdf = gpd.GeoDataFrame(pd.concat([filtered_emd, gdf_li], ignore_index=True),\n",
    "                                crs=filtered_emd.crs)"
   ]
  },
  {
   "cell_type": "code",
   "execution_count": 57,
   "metadata": {},
   "outputs": [
    {
     "data": {
      "application/vnd.microsoft.datawrangler.viewer.v0+json": {
       "columns": [
        {
         "name": "index",
         "rawType": "int64",
         "type": "integer"
        },
        {
         "name": "법정동코드",
         "rawType": "object",
         "type": "string"
        },
        {
         "name": "법정동명",
         "rawType": "object",
         "type": "string"
        }
       ],
       "conversionMethod": "pd.DataFrame",
       "ref": "ac56de5d-e3d9-4c7f-a54c-23780441c846",
       "rows": [
        [
         "0",
         "1100000000",
         "서울특별시"
        ],
        [
         "1",
         "1111000000",
         "서울특별시 종로구"
        ],
        [
         "2",
         "1111010100",
         "서울특별시 종로구 청운동"
        ],
        [
         "3",
         "1111010200",
         "서울특별시 종로구 신교동"
        ],
        [
         "4",
         "1111010300",
         "서울특별시 종로구 궁정동"
        ],
        [
         "5",
         "1111010400",
         "서울특별시 종로구 효자동"
        ],
        [
         "6",
         "1111010500",
         "서울특별시 종로구 창성동"
        ],
        [
         "7",
         "1111010600",
         "서울특별시 종로구 통의동"
        ],
        [
         "8",
         "1111010700",
         "서울특별시 종로구 적선동"
        ],
        [
         "9",
         "1111010800",
         "서울특별시 종로구 통인동"
        ],
        [
         "10",
         "1111010900",
         "서울특별시 종로구 누상동"
        ],
        [
         "11",
         "1111011000",
         "서울특별시 종로구 누하동"
        ],
        [
         "12",
         "1111011100",
         "서울특별시 종로구 옥인동"
        ],
        [
         "13",
         "1111011200",
         "서울특별시 종로구 체부동"
        ],
        [
         "14",
         "1111011300",
         "서울특별시 종로구 필운동"
        ],
        [
         "15",
         "1111011400",
         "서울특별시 종로구 내자동"
        ],
        [
         "16",
         "1111011500",
         "서울특별시 종로구 사직동"
        ],
        [
         "17",
         "1111011600",
         "서울특별시 종로구 도렴동"
        ],
        [
         "18",
         "1111011700",
         "서울특별시 종로구 당주동"
        ],
        [
         "19",
         "1111011800",
         "서울특별시 종로구 내수동"
        ],
        [
         "20",
         "1111011900",
         "서울특별시 종로구 세종로"
        ],
        [
         "21",
         "1111012000",
         "서울특별시 종로구 신문로1가"
        ],
        [
         "22",
         "1111012100",
         "서울특별시 종로구 신문로2가"
        ],
        [
         "23",
         "1111012200",
         "서울특별시 종로구 청진동"
        ],
        [
         "24",
         "1111012300",
         "서울특별시 종로구 서린동"
        ],
        [
         "25",
         "1111012400",
         "서울특별시 종로구 수송동"
        ],
        [
         "26",
         "1111012500",
         "서울특별시 종로구 중학동"
        ],
        [
         "27",
         "1111012600",
         "서울특별시 종로구 종로1가"
        ],
        [
         "28",
         "1111012700",
         "서울특별시 종로구 공평동"
        ],
        [
         "29",
         "1111012800",
         "서울특별시 종로구 관훈동"
        ],
        [
         "30",
         "1111012900",
         "서울특별시 종로구 견지동"
        ],
        [
         "31",
         "1111013000",
         "서울특별시 종로구 와룡동"
        ],
        [
         "32",
         "1111013100",
         "서울특별시 종로구 권농동"
        ],
        [
         "33",
         "1111013200",
         "서울특별시 종로구 운니동"
        ],
        [
         "34",
         "1111013300",
         "서울특별시 종로구 익선동"
        ],
        [
         "35",
         "1111013400",
         "서울특별시 종로구 경운동"
        ],
        [
         "36",
         "1111013500",
         "서울특별시 종로구 관철동"
        ],
        [
         "37",
         "1111013600",
         "서울특별시 종로구 인사동"
        ],
        [
         "38",
         "1111013700",
         "서울특별시 종로구 낙원동"
        ],
        [
         "39",
         "1111013800",
         "서울특별시 종로구 종로2가"
        ],
        [
         "40",
         "1111013900",
         "서울특별시 종로구 팔판동"
        ],
        [
         "41",
         "1111014000",
         "서울특별시 종로구 삼청동"
        ],
        [
         "42",
         "1111014100",
         "서울특별시 종로구 안국동"
        ],
        [
         "43",
         "1111014200",
         "서울특별시 종로구 소격동"
        ],
        [
         "44",
         "1111014300",
         "서울특별시 종로구 화동"
        ],
        [
         "45",
         "1111014400",
         "서울특별시 종로구 사간동"
        ],
        [
         "46",
         "1111014500",
         "서울특별시 종로구 송현동"
        ],
        [
         "47",
         "1111014600",
         "서울특별시 종로구 가회동"
        ],
        [
         "48",
         "1111014700",
         "서울특별시 종로구 재동"
        ],
        [
         "49",
         "1111014800",
         "서울특별시 종로구 계동"
        ]
       ],
       "shape": {
        "columns": 2,
        "rows": 20555
       }
      },
      "text/html": [
       "<div>\n",
       "<style scoped>\n",
       "    .dataframe tbody tr th:only-of-type {\n",
       "        vertical-align: middle;\n",
       "    }\n",
       "\n",
       "    .dataframe tbody tr th {\n",
       "        vertical-align: top;\n",
       "    }\n",
       "\n",
       "    .dataframe thead th {\n",
       "        text-align: right;\n",
       "    }\n",
       "</style>\n",
       "<table border=\"1\" class=\"dataframe\">\n",
       "  <thead>\n",
       "    <tr style=\"text-align: right;\">\n",
       "      <th></th>\n",
       "      <th>법정동코드</th>\n",
       "      <th>법정동명</th>\n",
       "    </tr>\n",
       "  </thead>\n",
       "  <tbody>\n",
       "    <tr>\n",
       "      <th>0</th>\n",
       "      <td>1100000000</td>\n",
       "      <td>서울특별시</td>\n",
       "    </tr>\n",
       "    <tr>\n",
       "      <th>1</th>\n",
       "      <td>1111000000</td>\n",
       "      <td>서울특별시 종로구</td>\n",
       "    </tr>\n",
       "    <tr>\n",
       "      <th>2</th>\n",
       "      <td>1111010100</td>\n",
       "      <td>서울특별시 종로구 청운동</td>\n",
       "    </tr>\n",
       "    <tr>\n",
       "      <th>3</th>\n",
       "      <td>1111010200</td>\n",
       "      <td>서울특별시 종로구 신교동</td>\n",
       "    </tr>\n",
       "    <tr>\n",
       "      <th>4</th>\n",
       "      <td>1111010300</td>\n",
       "      <td>서울특별시 종로구 궁정동</td>\n",
       "    </tr>\n",
       "    <tr>\n",
       "      <th>...</th>\n",
       "      <td>...</td>\n",
       "      <td>...</td>\n",
       "    </tr>\n",
       "    <tr>\n",
       "      <th>49854</th>\n",
       "      <td>5280042024</td>\n",
       "      <td>전북특별자치도 부안군 위도면 대리</td>\n",
       "    </tr>\n",
       "    <tr>\n",
       "      <th>49855</th>\n",
       "      <td>5280042025</td>\n",
       "      <td>전북특별자치도 부안군 위도면 거륜리</td>\n",
       "    </tr>\n",
       "    <tr>\n",
       "      <th>49856</th>\n",
       "      <td>5280042026</td>\n",
       "      <td>전북특별자치도 부안군 위도면 식도리</td>\n",
       "    </tr>\n",
       "    <tr>\n",
       "      <th>49857</th>\n",
       "      <td>5280042027</td>\n",
       "      <td>전북특별자치도 부안군 위도면 상왕등리</td>\n",
       "    </tr>\n",
       "    <tr>\n",
       "      <th>49858</th>\n",
       "      <td>5280042028</td>\n",
       "      <td>전북특별자치도 부안군 위도면 하왕등리</td>\n",
       "    </tr>\n",
       "  </tbody>\n",
       "</table>\n",
       "<p>20555 rows × 2 columns</p>\n",
       "</div>"
      ],
      "text/plain": [
       "            법정동코드                  법정동명\n",
       "0      1100000000                 서울특별시\n",
       "1      1111000000             서울특별시 종로구\n",
       "2      1111010100         서울특별시 종로구 청운동\n",
       "3      1111010200         서울특별시 종로구 신교동\n",
       "4      1111010300         서울특별시 종로구 궁정동\n",
       "...           ...                   ...\n",
       "49854  5280042024    전북특별자치도 부안군 위도면 대리\n",
       "49855  5280042025   전북특별자치도 부안군 위도면 거륜리\n",
       "49856  5280042026   전북특별자치도 부안군 위도면 식도리\n",
       "49857  5280042027  전북특별자치도 부안군 위도면 상왕등리\n",
       "49858  5280042028  전북특별자치도 부안군 위도면 하왕등리\n",
       "\n",
       "[20555 rows x 2 columns]"
      ]
     },
     "execution_count": 57,
     "metadata": {},
     "output_type": "execute_result"
    }
   ],
   "source": [
    "# 법정동코드 전체자료 파일 읽기 (탭 구분, 한글 인코딩 EUC-KR)\n",
    "code_df = pd.read_csv('E:/Coding/TMDL/주소검토/법정동코드 전체자료.txt', sep='\\t', encoding='euc-kr')\n",
    "\n",
    "# '법정동코드' 컬럼을 문자열로 변환\n",
    "code_df['법정동코드'] = code_df['법정동코드'].astype(str)\n",
    "\n",
    "# '폐지여부' 컬럼의 값이 '존재'인 행만 필터링\n",
    "code_df = code_df[code_df['폐지여부'] == '존재']\n",
    "\n",
    "# '폐지여부' 컬럼 삭제\n",
    "code_df = code_df.drop(columns='폐지여부')\n",
    "\n",
    "code_df"
   ]
  },
  {
   "cell_type": "code",
   "execution_count": 60,
   "metadata": {},
   "outputs": [],
   "source": [
    "# 법정동명 분할 함수 정의(3번째 항목이 '구'로 끝나면 2번째 항목과 결합)\n",
    "def split_code_name(name):\n",
    "    tokens = name.split()\n",
    "    # tokens가 최소 3개 이상 있고, 세번째 토큰이 '구'로 끝나는 경우\n",
    "    if len(tokens) >= 3 and tokens[2].endswith(\"구\"):\n",
    "        # 두번째 토큰과 세번째 토큰을 결합한 후, 세번째 토큰 제거\n",
    "        tokens[1] = tokens[1] + \"_\" + tokens[2]\n",
    "        tokens.pop(2)\n",
    "    # 시도, 시군구, 읍면동에 해당하는 최소 3개 토큰을 확보 (부족하면 None 할당)\n",
    "    while len(tokens) < 3:\n",
    "        tokens.append(None)\n",
    "    # 네번째 토큰이 존재하면 '리' 컬럼에 할당, 없으면 None\n",
    "    result = {\n",
    "        \"시도\": tokens[0],\n",
    "        \"시군구\": tokens[1],\n",
    "        \"읍면동\": tokens[2],\n",
    "        \"리\": tokens[3] if len(tokens) > 3 else None\n",
    "    }\n",
    "    return pd.Series(result)"
   ]
  },
  {
   "cell_type": "code",
   "execution_count": 61,
   "metadata": {},
   "outputs": [
    {
     "data": {
      "application/vnd.microsoft.datawrangler.viewer.v0+json": {
       "columns": [
        {
         "name": "index",
         "rawType": "int64",
         "type": "integer"
        },
        {
         "name": "법정동코드",
         "rawType": "object",
         "type": "string"
        },
        {
         "name": "법정동명",
         "rawType": "object",
         "type": "string"
        },
        {
         "name": "시도",
         "rawType": "object",
         "type": "string"
        },
        {
         "name": "시군구",
         "rawType": "object",
         "type": "unknown"
        },
        {
         "name": "읍면동",
         "rawType": "object",
         "type": "unknown"
        },
        {
         "name": "리",
         "rawType": "object",
         "type": "unknown"
        }
       ],
       "conversionMethod": "pd.DataFrame",
       "ref": "1f623af0-55c1-4b72-9501-40a2892db69e",
       "rows": [
        [
         "0",
         "1100000000",
         "서울특별시",
         "서울특별시",
         null,
         null,
         null
        ],
        [
         "1",
         "1111000000",
         "서울특별시 종로구",
         "서울특별시",
         "종로구",
         null,
         null
        ],
        [
         "2",
         "1111010100",
         "서울특별시 종로구 청운동",
         "서울특별시",
         "종로구",
         "청운동",
         null
        ],
        [
         "3",
         "1111010200",
         "서울특별시 종로구 신교동",
         "서울특별시",
         "종로구",
         "신교동",
         null
        ],
        [
         "4",
         "1111010300",
         "서울특별시 종로구 궁정동",
         "서울특별시",
         "종로구",
         "궁정동",
         null
        ]
       ],
       "shape": {
        "columns": 6,
        "rows": 5
       }
      },
      "text/html": [
       "<div>\n",
       "<style scoped>\n",
       "    .dataframe tbody tr th:only-of-type {\n",
       "        vertical-align: middle;\n",
       "    }\n",
       "\n",
       "    .dataframe tbody tr th {\n",
       "        vertical-align: top;\n",
       "    }\n",
       "\n",
       "    .dataframe thead th {\n",
       "        text-align: right;\n",
       "    }\n",
       "</style>\n",
       "<table border=\"1\" class=\"dataframe\">\n",
       "  <thead>\n",
       "    <tr style=\"text-align: right;\">\n",
       "      <th></th>\n",
       "      <th>법정동코드</th>\n",
       "      <th>법정동명</th>\n",
       "      <th>시도</th>\n",
       "      <th>시군구</th>\n",
       "      <th>읍면동</th>\n",
       "      <th>리</th>\n",
       "    </tr>\n",
       "  </thead>\n",
       "  <tbody>\n",
       "    <tr>\n",
       "      <th>0</th>\n",
       "      <td>1100000000</td>\n",
       "      <td>서울특별시</td>\n",
       "      <td>서울특별시</td>\n",
       "      <td>None</td>\n",
       "      <td>None</td>\n",
       "      <td>None</td>\n",
       "    </tr>\n",
       "    <tr>\n",
       "      <th>1</th>\n",
       "      <td>1111000000</td>\n",
       "      <td>서울특별시 종로구</td>\n",
       "      <td>서울특별시</td>\n",
       "      <td>종로구</td>\n",
       "      <td>None</td>\n",
       "      <td>None</td>\n",
       "    </tr>\n",
       "    <tr>\n",
       "      <th>2</th>\n",
       "      <td>1111010100</td>\n",
       "      <td>서울특별시 종로구 청운동</td>\n",
       "      <td>서울특별시</td>\n",
       "      <td>종로구</td>\n",
       "      <td>청운동</td>\n",
       "      <td>None</td>\n",
       "    </tr>\n",
       "    <tr>\n",
       "      <th>3</th>\n",
       "      <td>1111010200</td>\n",
       "      <td>서울특별시 종로구 신교동</td>\n",
       "      <td>서울특별시</td>\n",
       "      <td>종로구</td>\n",
       "      <td>신교동</td>\n",
       "      <td>None</td>\n",
       "    </tr>\n",
       "    <tr>\n",
       "      <th>4</th>\n",
       "      <td>1111010300</td>\n",
       "      <td>서울특별시 종로구 궁정동</td>\n",
       "      <td>서울특별시</td>\n",
       "      <td>종로구</td>\n",
       "      <td>궁정동</td>\n",
       "      <td>None</td>\n",
       "    </tr>\n",
       "  </tbody>\n",
       "</table>\n",
       "</div>"
      ],
      "text/plain": [
       "        법정동코드           법정동명     시도   시군구   읍면동     리\n",
       "0  1100000000          서울특별시  서울특별시  None  None  None\n",
       "1  1111000000      서울특별시 종로구  서울특별시   종로구  None  None\n",
       "2  1111010100  서울특별시 종로구 청운동  서울특별시   종로구   청운동  None\n",
       "3  1111010200  서울특별시 종로구 신교동  서울특별시   종로구   신교동  None\n",
       "4  1111010300  서울특별시 종로구 궁정동  서울특별시   종로구   궁정동  None"
      ]
     },
     "execution_count": 61,
     "metadata": {},
     "output_type": "execute_result"
    }
   ],
   "source": [
    "# '법정동명' 컬럼을 위 함수로 처리하여 새로운 컬럼 생성\n",
    "code_df[['시도', '시군구', '읍면동', '리']] = code_df['법정동명'].apply(split_code_name)\n",
    "\n",
    "# 결과 확인 (상위 5개 행)\n",
    "code_df.head()"
   ]
  },
  {
   "cell_type": "code",
   "execution_count": 62,
   "metadata": {},
   "outputs": [
    {
     "data": {
      "text/html": [
       "<div>\n",
       "<style scoped>\n",
       "    .dataframe tbody tr th:only-of-type {\n",
       "        vertical-align: middle;\n",
       "    }\n",
       "\n",
       "    .dataframe tbody tr th {\n",
       "        vertical-align: top;\n",
       "    }\n",
       "\n",
       "    .dataframe thead th {\n",
       "        text-align: right;\n",
       "    }\n",
       "</style>\n",
       "<table border=\"1\" class=\"dataframe\">\n",
       "  <thead>\n",
       "    <tr style=\"text-align: right;\">\n",
       "      <th></th>\n",
       "      <th>CODE</th>\n",
       "      <th>DONGLI</th>\n",
       "      <th>geometry</th>\n",
       "      <th>법정동코드</th>\n",
       "      <th>법정동명</th>\n",
       "      <th>시도</th>\n",
       "      <th>시군구</th>\n",
       "      <th>읍면동</th>\n",
       "      <th>리</th>\n",
       "    </tr>\n",
       "  </thead>\n",
       "  <tbody>\n",
       "    <tr>\n",
       "      <th>0</th>\n",
       "      <td>1111010100</td>\n",
       "      <td>청운동</td>\n",
       "      <td>POLYGON ((953700.022 1954605.065, 953693.871 1...</td>\n",
       "      <td>1111010100</td>\n",
       "      <td>서울특별시 종로구 청운동</td>\n",
       "      <td>서울특별시</td>\n",
       "      <td>종로구</td>\n",
       "      <td>청운동</td>\n",
       "      <td>None</td>\n",
       "    </tr>\n",
       "    <tr>\n",
       "      <th>1</th>\n",
       "      <td>1111010200</td>\n",
       "      <td>신교동</td>\n",
       "      <td>POLYGON ((953233.465 1953996.984, 953235.183 1...</td>\n",
       "      <td>1111010200</td>\n",
       "      <td>서울특별시 종로구 신교동</td>\n",
       "      <td>서울특별시</td>\n",
       "      <td>종로구</td>\n",
       "      <td>신교동</td>\n",
       "      <td>None</td>\n",
       "    </tr>\n",
       "    <tr>\n",
       "      <th>2</th>\n",
       "      <td>1111010300</td>\n",
       "      <td>궁정동</td>\n",
       "      <td>POLYGON ((953560.228 1954257.466, 953561.19 19...</td>\n",
       "      <td>1111010300</td>\n",
       "      <td>서울특별시 종로구 궁정동</td>\n",
       "      <td>서울특별시</td>\n",
       "      <td>종로구</td>\n",
       "      <td>궁정동</td>\n",
       "      <td>None</td>\n",
       "    </tr>\n",
       "    <tr>\n",
       "      <th>3</th>\n",
       "      <td>1111010400</td>\n",
       "      <td>효자동</td>\n",
       "      <td>POLYGON ((953519.843 1953890.785, 953518.489 1...</td>\n",
       "      <td>1111010400</td>\n",
       "      <td>서울특별시 종로구 효자동</td>\n",
       "      <td>서울특별시</td>\n",
       "      <td>종로구</td>\n",
       "      <td>효자동</td>\n",
       "      <td>None</td>\n",
       "    </tr>\n",
       "    <tr>\n",
       "      <th>4</th>\n",
       "      <td>1111010500</td>\n",
       "      <td>창성동</td>\n",
       "      <td>POLYGON ((953516.123 1953734.362, 953516.526 1...</td>\n",
       "      <td>1111010500</td>\n",
       "      <td>서울특별시 종로구 창성동</td>\n",
       "      <td>서울특별시</td>\n",
       "      <td>종로구</td>\n",
       "      <td>창성동</td>\n",
       "      <td>None</td>\n",
       "    </tr>\n",
       "  </tbody>\n",
       "</table>\n",
       "</div>"
      ],
      "text/plain": [
       "         CODE DONGLI                                           geometry  \\\n",
       "0  1111010100    청운동  POLYGON ((953700.022 1954605.065, 953693.871 1...   \n",
       "1  1111010200    신교동  POLYGON ((953233.465 1953996.984, 953235.183 1...   \n",
       "2  1111010300    궁정동  POLYGON ((953560.228 1954257.466, 953561.19 19...   \n",
       "3  1111010400    효자동  POLYGON ((953519.843 1953890.785, 953518.489 1...   \n",
       "4  1111010500    창성동  POLYGON ((953516.123 1953734.362, 953516.526 1...   \n",
       "\n",
       "        법정동코드           법정동명     시도  시군구  읍면동     리  \n",
       "0  1111010100  서울특별시 종로구 청운동  서울특별시  종로구  청운동  None  \n",
       "1  1111010200  서울특별시 종로구 신교동  서울특별시  종로구  신교동  None  \n",
       "2  1111010300  서울특별시 종로구 궁정동  서울특별시  종로구  궁정동  None  \n",
       "3  1111010400  서울특별시 종로구 효자동  서울특별시  종로구  효자동  None  \n",
       "4  1111010500  서울특별시 종로구 창성동  서울특별시  종로구  창성동  None  "
      ]
     },
     "execution_count": 62,
     "metadata": {},
     "output_type": "execute_result"
    }
   ],
   "source": [
    "# combined_gdf와 법정동코드 전체자료를 'CODE'와 '법정동코드'를 키로 left join 수행\n",
    "merged_gdf = combined_gdf.merge(code_df, left_on='CODE', right_on='법정동코드', how='left')\n",
    "\n",
    "# 병합 결과 확인\n",
    "merged_gdf.head()"
   ]
  },
  {
   "cell_type": "code",
   "execution_count": 63,
   "metadata": {},
   "outputs": [],
   "source": [
    "# 결과를 shp 파일로 저장(EUC-KR 인코딩 지정)\n",
    "merged_gdf.to_file('D:/GIS/행정구역/리/dong_li.shp', encoding='euc-kr')"
   ]
  },
  {
   "cell_type": "code",
   "execution_count": 65,
   "metadata": {},
   "outputs": [
    {
     "data": {
      "text/html": [
       "<div>\n",
       "<style scoped>\n",
       "    .dataframe tbody tr th:only-of-type {\n",
       "        vertical-align: middle;\n",
       "    }\n",
       "\n",
       "    .dataframe tbody tr th {\n",
       "        vertical-align: top;\n",
       "    }\n",
       "\n",
       "    .dataframe thead th {\n",
       "        text-align: right;\n",
       "    }\n",
       "</style>\n",
       "<table border=\"1\" class=\"dataframe\">\n",
       "  <thead>\n",
       "    <tr style=\"text-align: right;\">\n",
       "      <th></th>\n",
       "      <th>CODE</th>\n",
       "      <th>DONGLI</th>\n",
       "      <th>geometry</th>\n",
       "      <th>법정동코드</th>\n",
       "      <th>법정동명</th>\n",
       "      <th>시도</th>\n",
       "      <th>시군구</th>\n",
       "      <th>읍면동</th>\n",
       "      <th>리</th>\n",
       "    </tr>\n",
       "  </thead>\n",
       "  <tbody>\n",
       "    <tr>\n",
       "      <th>3222</th>\n",
       "      <td>5111010100</td>\n",
       "      <td>봉의동</td>\n",
       "      <td>POLYGON ((1019867.069 1987393.48, 1019867.069 ...</td>\n",
       "      <td>5111010100</td>\n",
       "      <td>강원특별자치도 춘천시 봉의동</td>\n",
       "      <td>강원특별자치도</td>\n",
       "      <td>춘천시</td>\n",
       "      <td>봉의동</td>\n",
       "      <td>None</td>\n",
       "    </tr>\n",
       "    <tr>\n",
       "      <th>3223</th>\n",
       "      <td>5111010200</td>\n",
       "      <td>요선동</td>\n",
       "      <td>POLYGON ((1019955.386 1987141.041, 1019955.409...</td>\n",
       "      <td>5111010200</td>\n",
       "      <td>강원특별자치도 춘천시 요선동</td>\n",
       "      <td>강원특별자치도</td>\n",
       "      <td>춘천시</td>\n",
       "      <td>요선동</td>\n",
       "      <td>None</td>\n",
       "    </tr>\n",
       "    <tr>\n",
       "      <th>3224</th>\n",
       "      <td>5111010300</td>\n",
       "      <td>낙원동</td>\n",
       "      <td>POLYGON ((1019635 1986381.326, 1019566.366 198...</td>\n",
       "      <td>5111010300</td>\n",
       "      <td>강원특별자치도 춘천시 낙원동</td>\n",
       "      <td>강원특별자치도</td>\n",
       "      <td>춘천시</td>\n",
       "      <td>낙원동</td>\n",
       "      <td>None</td>\n",
       "    </tr>\n",
       "    <tr>\n",
       "      <th>3225</th>\n",
       "      <td>5111010400</td>\n",
       "      <td>중앙로1가</td>\n",
       "      <td>POLYGON ((1020217.642 1987072.283, 1020190.311...</td>\n",
       "      <td>5111010400</td>\n",
       "      <td>강원특별자치도 춘천시 중앙로1가</td>\n",
       "      <td>강원특별자치도</td>\n",
       "      <td>춘천시</td>\n",
       "      <td>중앙로1가</td>\n",
       "      <td>None</td>\n",
       "    </tr>\n",
       "    <tr>\n",
       "      <th>3226</th>\n",
       "      <td>5111010500</td>\n",
       "      <td>중앙로2가</td>\n",
       "      <td>POLYGON ((1019733.606 1986437.275, 1019725.206...</td>\n",
       "      <td>5111010500</td>\n",
       "      <td>강원특별자치도 춘천시 중앙로2가</td>\n",
       "      <td>강원특별자치도</td>\n",
       "      <td>춘천시</td>\n",
       "      <td>중앙로2가</td>\n",
       "      <td>None</td>\n",
       "    </tr>\n",
       "    <tr>\n",
       "      <th>...</th>\n",
       "      <td>...</td>\n",
       "      <td>...</td>\n",
       "      <td>...</td>\n",
       "      <td>...</td>\n",
       "      <td>...</td>\n",
       "      <td>...</td>\n",
       "      <td>...</td>\n",
       "      <td>...</td>\n",
       "      <td>...</td>\n",
       "    </tr>\n",
       "    <tr>\n",
       "      <th>17344</th>\n",
       "      <td>5183035038</td>\n",
       "      <td>장산리</td>\n",
       "      <td>POLYGON ((1094783.88 2014877.489, 1094802.091 ...</td>\n",
       "      <td>5183035038</td>\n",
       "      <td>강원특별자치도 양양군 강현면 장산리</td>\n",
       "      <td>강원특별자치도</td>\n",
       "      <td>양양군</td>\n",
       "      <td>강현면</td>\n",
       "      <td>장산리</td>\n",
       "    </tr>\n",
       "    <tr>\n",
       "      <th>17345</th>\n",
       "      <td>5183035039</td>\n",
       "      <td>전진리</td>\n",
       "      <td>POLYGON ((1098120.453 2014314.88, 1098129.268 ...</td>\n",
       "      <td>5183035039</td>\n",
       "      <td>강원특별자치도 양양군 강현면 전진리</td>\n",
       "      <td>강원특별자치도</td>\n",
       "      <td>양양군</td>\n",
       "      <td>강현면</td>\n",
       "      <td>전진리</td>\n",
       "    </tr>\n",
       "    <tr>\n",
       "      <th>17346</th>\n",
       "      <td>5183035040</td>\n",
       "      <td>주청리</td>\n",
       "      <td>POLYGON ((1098517.017 2013399.913, 1098517.928...</td>\n",
       "      <td>5183035040</td>\n",
       "      <td>강원특별자치도 양양군 강현면 주청리</td>\n",
       "      <td>강원특별자치도</td>\n",
       "      <td>양양군</td>\n",
       "      <td>강현면</td>\n",
       "      <td>주청리</td>\n",
       "    </tr>\n",
       "    <tr>\n",
       "      <th>17347</th>\n",
       "      <td>5183035041</td>\n",
       "      <td>적은리</td>\n",
       "      <td>POLYGON ((1095184.931 2014773.485, 1095211.126...</td>\n",
       "      <td>5183035041</td>\n",
       "      <td>강원특별자치도 양양군 강현면 적은리</td>\n",
       "      <td>강원특별자치도</td>\n",
       "      <td>양양군</td>\n",
       "      <td>강현면</td>\n",
       "      <td>적은리</td>\n",
       "    </tr>\n",
       "    <tr>\n",
       "      <th>17348</th>\n",
       "      <td>5183035042</td>\n",
       "      <td>물갑리</td>\n",
       "      <td>POLYGON ((1084911.597 2013354.788, 1084980.734...</td>\n",
       "      <td>5183035042</td>\n",
       "      <td>강원특별자치도 양양군 강현면 물갑리</td>\n",
       "      <td>강원특별자치도</td>\n",
       "      <td>양양군</td>\n",
       "      <td>강현면</td>\n",
       "      <td>물갑리</td>\n",
       "    </tr>\n",
       "  </tbody>\n",
       "</table>\n",
       "<p>1321 rows × 9 columns</p>\n",
       "</div>"
      ],
      "text/plain": [
       "             CODE DONGLI                                           geometry  \\\n",
       "3222   5111010100    봉의동  POLYGON ((1019867.069 1987393.48, 1019867.069 ...   \n",
       "3223   5111010200    요선동  POLYGON ((1019955.386 1987141.041, 1019955.409...   \n",
       "3224   5111010300    낙원동  POLYGON ((1019635 1986381.326, 1019566.366 198...   \n",
       "3225   5111010400  중앙로1가  POLYGON ((1020217.642 1987072.283, 1020190.311...   \n",
       "3226   5111010500  중앙로2가  POLYGON ((1019733.606 1986437.275, 1019725.206...   \n",
       "...           ...    ...                                                ...   \n",
       "17344  5183035038    장산리  POLYGON ((1094783.88 2014877.489, 1094802.091 ...   \n",
       "17345  5183035039    전진리  POLYGON ((1098120.453 2014314.88, 1098129.268 ...   \n",
       "17346  5183035040    주청리  POLYGON ((1098517.017 2013399.913, 1098517.928...   \n",
       "17347  5183035041    적은리  POLYGON ((1095184.931 2014773.485, 1095211.126...   \n",
       "17348  5183035042    물갑리  POLYGON ((1084911.597 2013354.788, 1084980.734...   \n",
       "\n",
       "            법정동코드                 법정동명       시도  시군구    읍면동     리  \n",
       "3222   5111010100      강원특별자치도 춘천시 봉의동  강원특별자치도  춘천시    봉의동  None  \n",
       "3223   5111010200      강원특별자치도 춘천시 요선동  강원특별자치도  춘천시    요선동  None  \n",
       "3224   5111010300      강원특별자치도 춘천시 낙원동  강원특별자치도  춘천시    낙원동  None  \n",
       "3225   5111010400    강원특별자치도 춘천시 중앙로1가  강원특별자치도  춘천시  중앙로1가  None  \n",
       "3226   5111010500    강원특별자치도 춘천시 중앙로2가  강원특별자치도  춘천시  중앙로2가  None  \n",
       "...           ...                  ...      ...  ...    ...   ...  \n",
       "17344  5183035038  강원특별자치도 양양군 강현면 장산리  강원특별자치도  양양군    강현면   장산리  \n",
       "17345  5183035039  강원특별자치도 양양군 강현면 전진리  강원특별자치도  양양군    강현면   전진리  \n",
       "17346  5183035040  강원특별자치도 양양군 강현면 주청리  강원특별자치도  양양군    강현면   주청리  \n",
       "17347  5183035041  강원특별자치도 양양군 강현면 적은리  강원특별자치도  양양군    강현면   적은리  \n",
       "17348  5183035042  강원특별자치도 양양군 강현면 물갑리  강원특별자치도  양양군    강현면   물갑리  \n",
       "\n",
       "[1321 rows x 9 columns]"
      ]
     },
     "execution_count": 65,
     "metadata": {},
     "output_type": "execute_result"
    }
   ],
   "source": [
    "# 강원도만 추출\n",
    "gangwon = merged_gdf[merged_gdf['시도'] == '강원특별자치도']\n",
    "\n",
    "gangwon"
   ]
  },
  {
   "cell_type": "code",
   "execution_count": 66,
   "metadata": {},
   "outputs": [],
   "source": [
    "# 결과를 shp 파일로 저장(EUC-KR 인코딩 지정)\n",
    "gangwon.to_file('D:/GIS/행정구역/리/dong_li_gangwon.shp', encoding='euc-kr')"
   ]
  }
 ],
 "metadata": {
  "kernelspec": {
   "display_name": "moonsoo1",
   "language": "python",
   "name": "python3"
  },
  "language_info": {
   "codemirror_mode": {
    "name": "ipython",
    "version": 3
   },
   "file_extension": ".py",
   "mimetype": "text/x-python",
   "name": "python",
   "nbconvert_exporter": "python",
   "pygments_lexer": "ipython3",
   "version": "3.12.7"
  }
 },
 "nbformat": 4,
 "nbformat_minor": 2
}
