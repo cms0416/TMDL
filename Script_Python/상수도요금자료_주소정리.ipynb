{
 "cells": [
  {
   "cell_type": "code",
   "execution_count": 2,
   "metadata": {},
   "outputs": [],
   "source": [
    "import pandas as pd\n",
    "import glob\n",
    "import openpyxl"
   ]
  },
  {
   "cell_type": "code",
   "execution_count": 8,
   "metadata": {},
   "outputs": [
    {
     "name": "stderr",
     "output_type": "stream",
     "text": [
      "C:\\Users\\TG\\AppData\\Local\\Temp\\ipykernel_59256\\2656067039.py:7: FutureWarning: The frame.append method is deprecated and will be removed from pandas in a future version. Use pandas.concat instead.\n",
      "  ws_address = ws_address.append(df, ignore_index = True)\n",
      "C:\\Users\\TG\\AppData\\Local\\Temp\\ipykernel_59256\\2656067039.py:7: FutureWarning: The frame.append method is deprecated and will be removed from pandas in a future version. Use pandas.concat instead.\n",
      "  ws_address = ws_address.append(df, ignore_index = True)\n",
      "C:\\Users\\TG\\AppData\\Local\\Temp\\ipykernel_59256\\2656067039.py:7: FutureWarning: The frame.append method is deprecated and will be removed from pandas in a future version. Use pandas.concat instead.\n",
      "  ws_address = ws_address.append(df, ignore_index = True)\n",
      "C:\\Users\\TG\\AppData\\Local\\Temp\\ipykernel_59256\\2656067039.py:7: FutureWarning: The frame.append method is deprecated and will be removed from pandas in a future version. Use pandas.concat instead.\n",
      "  ws_address = ws_address.append(df, ignore_index = True)\n",
      "C:\\Users\\TG\\AppData\\Local\\Temp\\ipykernel_59256\\2656067039.py:7: FutureWarning: The frame.append method is deprecated and will be removed from pandas in a future version. Use pandas.concat instead.\n",
      "  ws_address = ws_address.append(df, ignore_index = True)\n",
      "C:\\Users\\TG\\AppData\\Local\\Temp\\ipykernel_59256\\2656067039.py:7: FutureWarning: The frame.append method is deprecated and will be removed from pandas in a future version. Use pandas.concat instead.\n",
      "  ws_address = ws_address.append(df, ignore_index = True)\n"
     ]
    },
    {
     "name": "stdout",
     "output_type": "stream",
     "text": [
      "         시군             수용가번호                     주소   비고\n",
      "0       양구군  01-101-0010-0000  양구읍 상리 334-25  비봉로 56  상수도\n",
      "1       양구군  01-101-0020-0000  양구읍 상리 334-25  비봉로 56  상수도\n",
      "2       양구군  01-101-0030-0000  양구읍 상리 334-25  비봉로 56  상수도\n",
      "3       양구군  01-101-0040-0000  양구읍 상리 334-25  비봉로 56  상수도\n",
      "4       양구군  01-101-0050-0000  양구읍 상리 334-25  비봉로 56  상수도\n",
      "...     ...               ...                    ...  ...\n",
      "141773  횡성군  25-99-0012-00000       횡성읍 문정로 20 제일세차장  지하수\n",
      "141774  횡성군  25-99-0014-00000      횡성읍 문정로 7-3 (동호탕)  지하수\n",
      "141775  횡성군  25-99-0015-00000       횡성읍 교항로 33 (지하수)  지하수\n",
      "141776  횡성군  25-99-0016-00000            횡성읍 교항북로 35  지하수\n",
      "141777  횡성군  25-99-0058-00000    횡성읍 앞들서2로 22 (임페리얼)  지하수\n",
      "\n",
      "[141778 rows x 4 columns]\n"
     ]
    },
    {
     "name": "stderr",
     "output_type": "stream",
     "text": [
      "C:\\Users\\TG\\AppData\\Local\\Temp\\ipykernel_59256\\2656067039.py:7: FutureWarning: The frame.append method is deprecated and will be removed from pandas in a future version. Use pandas.concat instead.\n",
      "  ws_address = ws_address.append(df, ignore_index = True)\n"
     ]
    }
   ],
   "source": [
    "#%%  모든 누적관리대장 파일에서 \"협의\"가 포함안된 시트 자료 합치기\n",
    "ws_address = pd.DataFrame()\n",
    "\n",
    "for f in glob.glob(\"E:\\R\\총량\\Data\\전국오염원조사\\생활계 물사용량 주소 검증\\*.xlsx\"):\n",
    "    \n",
    "    df = pd.read_excel(f)\n",
    "    ws_address = ws_address.append(df, ignore_index = True)\n",
    "    \n",
    "print(ws_address)\n"
   ]
  },
  {
   "cell_type": "code",
   "execution_count": 14,
   "metadata": {},
   "outputs": [
    {
     "name": "stdout",
     "output_type": "stream",
     "text": [
      "         시군             수용가번호                     주소   비고   시도  테스트\n",
      "0       양구군  01-101-0010-0000  양구읍 상리 334-25  비봉로 56  상수도  강원도  테스트\n",
      "1       양구군  01-101-0020-0000  양구읍 상리 334-25  비봉로 56  상수도  강원도  테스트\n",
      "2       양구군  01-101-0030-0000  양구읍 상리 334-25  비봉로 56  상수도  강원도  테스트\n",
      "3       양구군  01-101-0040-0000  양구읍 상리 334-25  비봉로 56  상수도  강원도  테스트\n",
      "4       양구군  01-101-0050-0000  양구읍 상리 334-25  비봉로 56  상수도  강원도  테스트\n",
      "...     ...               ...                    ...  ...  ...  ...\n",
      "141773  횡성군  25-99-0012-00000       횡성읍 문정로 20 제일세차장  지하수  강원도  테스트\n",
      "141774  횡성군  25-99-0014-00000      횡성읍 문정로 7-3 (동호탕)  지하수  강원도  테스트\n",
      "141775  횡성군  25-99-0015-00000       횡성읍 교항로 33 (지하수)  지하수  강원도  테스트\n",
      "141776  횡성군  25-99-0016-00000            횡성읍 교항북로 35  지하수  강원도  테스트\n",
      "141777  횡성군  25-99-0058-00000    횡성읍 앞들서2로 22 (임페리얼)  지하수  강원도  테스트\n",
      "\n",
      "[141778 rows x 6 columns]\n"
     ]
    }
   ],
   "source": [
    "ws_address2 = ws_address.assign(\n",
    "    시도 = \"강원도\", \n",
    "    테스트 = \"테스트\"\n",
    "    )\n",
    "\n",
    "print(ws_address2)"
   ]
  }
 ],
 "metadata": {
  "kernelspec": {
   "display_name": "moonsoo1",
   "language": "python",
   "name": "python3"
  },
  "language_info": {
   "codemirror_mode": {
    "name": "ipython",
    "version": 3
   },
   "file_extension": ".py",
   "mimetype": "text/x-python",
   "name": "python",
   "nbconvert_exporter": "python",
   "pygments_lexer": "ipython3",
   "version": "3.10.9"
  },
  "orig_nbformat": 4,
  "vscode": {
   "interpreter": {
    "hash": "ab39c2ad298adab2fa57497e13627c1685cc419f39f2d11f7269c9f33ed13219"
   }
  }
 },
 "nbformat": 4,
 "nbformat_minor": 2
}
