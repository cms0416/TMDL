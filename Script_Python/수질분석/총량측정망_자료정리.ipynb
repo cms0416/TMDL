{
  "cells": [
    {
      "cell_type": "code",
      "execution_count": 1,
      "metadata": {},
      "outputs": [],
      "source": [
        "import pandas as pd\n",
        "\n",
        "# 파일 경로 설정\n",
        "base_file = \"E:/Coding/TMDL/수질분석/총량측정망_2007_2023.xlsx\"\n",
        "data_2024_file = \"E:/Coding/TMDL/수질분석/자료조회_2024.xlsx\"\n",
        "output_file = \"E:/Coding/TMDL/수질분석/총량측정망_2007_2024(파이썬테스트).xlsx\"\n",
        "output_file_kangwon = \"E:/Coding/TMDL/수질분석/총량측정망_강원_2007_2024(파이썬테스트).xlsx\"\n"
      ]
    },
    {
      "cell_type": "code",
      "execution_count": 2,
      "metadata": {},
      "outputs": [],
      "source": [
        "# 총량지점명 리스트 정의\n",
        "selected_sites = [\n",
        "    \"가평A\", \"경안A\", \"경안B\", \"골지A\", \"공릉A\", \"굴포A\", \"달천A\", \"달천B\",\n",
        "    \"문산A\", \"복하A\", \"북한A\", \"북한B\", \"북한C\", \"북한D\", \"섬강A\", \"섬강B\",\n",
        "    \"소양A\", \"소양B\", \"신천A\", \"안양A\", \"양화A\", \"영평A\", \"오대A\", \"옥동A\",\n",
        "    \"왕숙A\", \"인북A\", \"임진A\", \"임진B\", \"제천A\", \"조종A\", \"주천A\", \"중랑A\",\n",
        "    \"청미A\", \"탄천A\", \"평창A\", \"한강A\", \"한강B\", \"한강C\", \"한강D\", \"한강E\",\n",
        "    \"한강F\", \"한강G\", \"한강H\", \"한강I\", \"한탄A\", \"한탄B\", \"홍천A\", \"흑천A\",\n",
        "    \"낙본A\"\n",
        "]\n",
        "\n",
        "kangwon_sites = [\n",
        "    \"골지A\", \"오대A\", \"주천A\", \"평창A\", \"옥동A\", \"한강A\", \"섬강A\", \"섬강B\",\n",
        "    \"북한A\", \"북한B\", \"소양A\", \"인북A\", \"소양B\", \"북한C\", \"홍천A\", \"한탄A\",\n",
        "    \"제천A\", \"한강B\", \"한강D\", \"북한D\", \"임진A\", \"한탄B\", \"낙본A\"\n",
        "]\n"
      ]
    },
    {
      "cell_type": "code",
      "execution_count": 8,
      "metadata": {},
      "outputs": [],
      "source": [
        "# 데이터 처리\n",
        "# 2024년 데이터 불러오기 및 정리\n",
        "data_2024_processed = (\n",
        "    pd.read_excel(data_2024_file, skiprows=1)\n",
        "    .set_axis([\n",
        "        \"총량지점명\", \"일자\", \"수온\", \"pH\", \"EC\", \"DO\", \"BOD\", \"COD\",\n",
        "        \"SS\", \"TN\", \"TP\", \"TOC\", \"유량\"\n",
        "    ], axis=1)\n",
        "    .reindex(columns=[\n",
        "        \"총량지점명\", \"일자\", \"BOD\", \"TP\", \"유량\", \"TOC\", \n",
        "        \"수온\", \"pH\", \"EC\", \"DO\", \"COD\", \"SS\", \"TN\"\n",
        "    ])\n",
        "    .assign(\n",
        "        일자 = lambda df: pd.to_datetime(df['일자'].str.replace('.', '-'), format='%Y-%m-%d'),\n",
        "        연도 = lambda df: df['일자'].dt.year,\n",
        "        월 = lambda df: df['일자'].dt.month\n",
        "    )\n",
        "    .query(\"총량지점명 in @selected_sites\")\n",
        ")\n"
      ]
    },
    {
      "cell_type": "code",
      "execution_count": 9,
      "metadata": {},
      "outputs": [],
      "source": [
        "# 기존 데이터 불러오기 및 합치기\n",
        "base = pd.read_excel(base_file)\n",
        "data = pd.concat([base, data_2024_processed], ignore_index=True)\n"
      ]
    },
    {
      "cell_type": "code",
      "execution_count": 10,
      "metadata": {},
      "outputs": [],
      "source": [
        "# 강원지역 포함 유역 자료 정리\n",
        "category_order = [\n",
        "    \"골지A\", \"오대A\", \"주천A\", \"평창A\", \"옥동A\", \"한강A\", \"섬강A\", \"섬강B\",\n",
        "    \"북한A\", \"북한B\", \"소양A\", \"인북A\", \"소양B\", \"북한C\", \"홍천A\", \"한탄A\",\n",
        "    \"제천A\", \"한강B\", \"한강D\", \"북한D\", \"임진A\", \"한탄B\", \"낙본A\"\n",
        "]\n",
        "\n",
        "data_kangwon = (\n",
        "    data\n",
        "    .query(\"총량지점명 in @kangwon_sites\")\n",
        "    .assign(\n",
        "        총량지점명=lambda df: pd.Categorical(\n",
        "            df['총량지점명'],\n",
        "            categories=category_order,\n",
        "            ordered=True\n",
        "        )\n",
        "    )\n",
        "    .sort_values('총량지점명')\n",
        ")\n"
      ]
    },
    {
      "cell_type": "code",
      "execution_count": 11,
      "metadata": {},
      "outputs": [],
      "source": [
        "# 엑셀 파일 내보내기\n",
        "data.to_excel(output_file, index=False)\n",
        "data_kangwon.to_excel(output_file_kangwon, index=False)\n"
      ]
    }
  ],
  "metadata": {
    "anaconda-cloud": {},
    "kernelspec": {
      "display_name": "Python 3",
      "language": "python",
      "name": "python3"
    },
    "language_info": {
      "codemirror_mode": {
        "name": "ipython",
        "version": 3
      },
      "file_extension": ".py",
      "mimetype": "text/x-python",
      "name": "python",
      "nbconvert_exporter": "python",
      "pygments_lexer": "ipython3",
      "version": "3.12.4"
    }
  },
  "nbformat": 4,
  "nbformat_minor": 4
}
